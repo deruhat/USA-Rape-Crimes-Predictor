{
 "cells": [
  {
   "cell_type": "markdown",
   "metadata": {},
   "source": [
    "# Data Science Final Report\n",
    "Marshal Nink - mrn61\n",
    "\n",
    "Abdullelah Abualshour - aha59"
   ]
  },
  {
   "cell_type": "markdown",
   "metadata": {},
   "source": [
    "## Project Goals\n",
    "- In our project, we have a data set that contains more than 8,500 cities in the United States with the number of crimes that happened in each city in 2016. \n",
    "- It is detailed and contains the number of violent crimes (murder, rape, robbery, aggravated assault) and property crimes (burglary, larceny-theft, motor vehicle theft, arson) during 2016. \n",
    "- We want to explore the relationship between populations and different types of crimes, as well as determining the safest and most dangerous states and cities within each population range. \n",
    "- We also observed and visualized patterns related to violent crimes compared to property crimes in cities with relatively similar populations.\n",
    "\n",
    "## Data Collection and Preprocessing Challanges\n",
    "The dataset has been made available by the FBI on their online database:\n",
    "https://ucr.fbi.gov\n",
    "\n",
    "We faced some challenges after acquiring the data. These challanges during the data preprocessing included:\n",
    "- Renaming files to represent state names.\n",
    "- Removing unnecessary comments from the file.\n",
    "- Removing unnecessary nesting in some of the CSV files.\n",
    "- Merging columns that represented the same category of crime.\n",
    "- Renaming column headers.\n",
    "- Filling in for missing data (add zeros to blank entries).\n",
    "- Removing commas in some of the numbers (change from 5,000 to 5000) in order to cast to float values.\n",
    "- Making sure column headers are consistent throughout the dataset.\n",
    "\n",
    "## Machine Learning Application \n",
    "- This data can be used to predict crime statistics in U.S. cities. This could help local governments and authorities better allocate resources and personnel to prevent future crimes or better prepare for crimes in specific cities. \n",
    "- By predicting an approximation of rape crimes, authorities can use this machine learning model to be better prepared for future rape crimes.\n",
    "- In project, we implemented two machine learning models that attempt to predict rape crimes for cities in the dataset based on analysis of features of other cities within the same dataset. We compared our predictions to the actual statistics in the dataset originally and concluded that our predictions were relatively close to the actual data in the test set, with around 40% accuracy using Perceptron which is acceptable given the dataset size.\n",
    "\n",
    "### Notes: \n",
    "- The population data for each state is an aggregate of the populations for cities with the reported crime statistics. Our calculated populations may not accurately reflect the actual population of each state. Our analysis is based on the data made available by the FBI.\n",
    "- The original crime statistics dataset represent the exact numbers of crimes, NOT crimes per capita."
   ]
  },
  {
   "cell_type": "markdown",
   "metadata": {},
   "source": [
    "__________________________________________________________________________________________________________"
   ]
  },
  {
   "cell_type": "markdown",
   "metadata": {},
   "source": [
    "# Data Analysis"
   ]
  },
  {
   "cell_type": "markdown",
   "metadata": {},
   "source": [
    "### Importing the dataset:"
   ]
  },
  {
   "cell_type": "code",
   "execution_count": 6,
   "metadata": {},
   "outputs": [
    {
     "name": "stdout",
     "output_type": "stream",
     "text": [
      "file: Alabama.csv\n",
      "file: Alaska.csv\n",
      "file: Arizona.csv\n",
      "file: Arkansas.csv\n",
      "file: California.csv\n",
      "file: Colorado.csv\n",
      "file: Connecticut.csv\n",
      "file: Delaware.csv\n",
      "file: District_of_Columbia.csv\n",
      "file: Florida.csv\n",
      "file: Georgia.csv\n",
      "file: Hawaii.csv\n",
      "file: Idaho.csv\n",
      "file: Illinois.csv\n",
      "file: Indiana.csv\n",
      "file: Iowa.csv\n",
      "file: Kansas.csv\n",
      "file: Kentucky.csv\n",
      "file: Louisiana.csv\n",
      "file: Maine.csv\n",
      "file: Maryland.csv\n",
      "file: Massachusets.csv\n",
      "file: Michigan.csv\n",
      "file: Minnisota.csv\n",
      "file: Mississippi.csv\n",
      "file: Missouri.csv\n",
      "file: Montana.csv\n",
      "file: Nebraska.csv\n",
      "file: Nevada.csv\n",
      "file: New_Hampshire.csv\n",
      "file: New_Jersey.csv\n",
      "file: New_Mexico.csv\n",
      "file: New_York.csv\n",
      "file: North_Carolina.csv\n",
      "file: North_Dakota.csv\n",
      "file: Ohio.csv\n",
      "file: Oklahoma.csv\n",
      "file: Oregon.csv\n",
      "file: Pennsylvania.csv\n",
      "file: Rhode_Island.csv\n",
      "file: South_Carolina.csv\n",
      "file: South_Dakota.csv\n",
      "file: Tennessee.csv\n",
      "file: Texas.csv\n",
      "file: Utah.csv\n",
      "file: Vermont.csv\n",
      "file: Virginia.csv\n",
      "file: Washington.csv\n",
      "file: West_Virginia.csv\n",
      "file: Wisconsin.csv\n",
      "file: Wyoming.csv\n"
     ]
    }
   ],
   "source": [
    "import os\n",
    "import pandas as pd\n",
    "import matplotlib\n",
    "import matplotlib.pyplot as plt\n",
    "import numpy as np\n",
    "\n",
    "# Make sure you include the correct path to the dataset here\n",
    "directory = os.path.join(\".\\\\clean_data\\\\\")\n",
    "path = \".\\\\clean_data\\\\\"\n",
    "states = {}\n",
    "state_names = []\n",
    "\n",
    "# load a dataframe for every state into a dictionary\n",
    "for root,dirs,files in os.walk(directory):\n",
    "    for file in files:\n",
    "        print (\"file: \" + file)\n",
    "        if file.endswith(\".csv\"):\n",
    "            f=open(path+file, 'r')\n",
    "            state_names.append(file[:-4])\n",
    "            states[file[:-4]]= pd.read_csv(f)\n",
    "            #  perform calculation\n",
    "            f.close()\n",
    "\n",
    "# print (states)\n",
    "# print (state_names)\n",
    "# print (states['Wyoming'])"
   ]
  },
  {
   "cell_type": "code",
   "execution_count": 7,
   "metadata": {},
   "outputs": [
    {
     "name": "stdout",
     "output_type": "stream",
     "text": [
      "{'Alabama': 2499649.0, 'Alaska': 475023.0, 'Arizona': 5232268.0, 'Arkansas': 1729204.0, 'California': 32747075.0, 'Colorado': 3671826.0, 'Connecticut': 2999155.0, 'Delaware': 262570.0, 'District_of_Columbia': 681170.0, 'Florida': 9885328.0, 'Georgia': 3726113.0, 'Hawaii': 995572.0, 'Idaho': 998921.0, 'Illinois': 10243355.0, 'Indiana': 3400015.0, 'Iowa': 1949689.0, 'Kansas': 1726035.0, 'Kentucky': 2401154.0, 'Louisiana': 1909852.0, 'Maine': 843135.0, 'Maryland': 1300377.0, 'Massachusets': 6558846.0, 'Michigan': 6473326.0, 'Minnisota': 3843399.0, 'Mississippi': 859499.0, 'Missouri': 3750564.0, 'Montana': 472883.0, 'Nebraska': 1244990.0, 'Nevada': 2546372.0, 'New_Hampshire': 1229123.0, 'New_Jersey': 8580636.0, 'New_Mexico': 1353474.0, 'New_York': 14214511.0, 'North_Carolina': 3428540.0, 'North_Dakota': 514342.0, 'Ohio': 6925776.0, 'Oklahoma': 2855546.0, 'Oregon': 2559979.0, 'Pennsylvania': 9179018.0, 'Rhode_Island': 1014904.0, 'South_Carolina': 1545608.0, 'South_Dakota': 504378.0, 'Tennessee': 3832161.0, 'Texas': 19795935.0, 'Utah': 2206043.0, 'Vermont': 227000.0, 'Virginia': 2818918.0, 'Washington': 4627044.0, 'West_Virginia': 452028.0, 'Wisconsin': 3909470.0, 'Wyoming': 368617.0}\n"
     ]
    }
   ],
   "source": [
    "# Sum population for each state\n",
    "state_populations = {}\n",
    "\n",
    "for state, df in states.items():\n",
    "    state_populations[state] = float(df['population'].sum())\n",
    "    \n",
    "print(state_populations)"
   ]
  },
  {
   "cell_type": "markdown",
   "metadata": {},
   "source": [
    "### First, let's visualize the population of each state:"
   ]
  },
  {
   "cell_type": "code",
   "execution_count": 8,
   "metadata": {
    "scrolled": false
   },
   "outputs": [
    {
     "data": {
      "image/png": "[encoded data removed]",
      "text/plain": [
       "<Figure size 936x720 with 1 Axes>"
      ]
     },
     "metadata": {},
     "output_type": "display_data"
    }
   ],
   "source": [
    "# plot populations as bar chart\n",
    "objects = []\n",
    "populations = []\n",
    "\n",
    "\n",
    "for state, pop in state_populations.items():\n",
    "    objects.append(state)\n",
    "    populations.append(pop)\n",
    "\n",
    "y_pos = np.arange(len(objects))\n",
    "\n",
    "plt.figure(figsize=(13,10))\n",
    "\n",
    "plt.ticklabel_format(style='plain')\n",
    "plt.bar(y_pos, populations, align='center')\n",
    "plt.xticks(y_pos, objects)\n",
    "plt.ylim(0, 35000000)\n",
    "\n",
    "plt.ylabel('Population')\n",
    "plt.xlabel('State')\n",
    "plt.title('State Populations')\n",
    "plt.xticks(rotation=90)\n",
    "plt.grid(axis='y')\n",
    "\n",
    "\n",
    "\n",
    "plt.show()"
   ]
  },
  {
   "cell_type": "markdown",
   "metadata": {},
   "source": [
    "## Simple statistics about populations:"
   ]
  },
  {
   "cell_type": "markdown",
   "metadata": {},
   "source": [
    "### Mean:"
   ]
  },
  {
   "cell_type": "code",
   "execution_count": 9,
   "metadata": {},
   "outputs": [
    {
     "data": {
      "text/plain": [
       "4070008.156862745"
      ]
     },
     "execution_count": 9,
     "metadata": {},
     "output_type": "execute_result"
    }
   ],
   "source": [
    "np.mean(populations)"
   ]
  },
  {
   "cell_type": "markdown",
   "metadata": {},
   "source": [
    "### Median:"
   ]
  },
  {
   "cell_type": "code",
   "execution_count": 10,
   "metadata": {},
   "outputs": [
    {
     "name": "stdout",
     "output_type": "stream",
     "text": [
      "Alabama\n",
      "2499649.0\n"
     ]
    }
   ],
   "source": [
    "print(list(state_populations.keys())[list(state_populations.values()).index(np.median(np.sort(populations)))])\n",
    "print(np.median(np.sort(populations)))\n"
   ]
  },
  {
   "cell_type": "markdown",
   "metadata": {},
   "source": [
    "- It's interesting to see that half of the states' populations fall below 2.5 million yet the mean population for states is around 4 million. Looking at the chart, we can observe that the huge populations of the three states: California, Texas and New York skew the data tremendously."
   ]
  },
  {
   "cell_type": "markdown",
   "metadata": {},
   "source": [
    "# Comparing the 5 Most and Least Populated States"
   ]
  },
  {
   "cell_type": "code",
   "execution_count": 11,
   "metadata": {},
   "outputs": [
    {
     "data": {
      "image/png": "[encoded data removed]",
      "text/plain": [
       "<Figure size 864x864 with 4 Axes>"
      ]
     },
     "metadata": {},
     "output_type": "display_data"
    }
   ],
   "source": [
    "# Top (Most -> Least): California, Texas, New York, Illinois, Florida\n",
    "# Bottom (Most -> Least): Montana, West Virginia, Wyoming, Delaware, Vermont\n",
    "import matplotlib.patches as mpatches\n",
    "\n",
    "state_violent_crimes = {}\n",
    "state_property_crimes = {}\n",
    "\n",
    "for state, df in states.items():\n",
    "    state_violent_crimes[state] = float(df['violent_crime'].sum())\n",
    "    state_property_crimes[state] = float(df['property_crime'].sum())\n",
    "    \n",
    "# print(state_violent_crimes)\n",
    "# print(state_property_crimes)\n",
    "\n",
    "###\n",
    "### Crime Graphs\n",
    "###\n",
    "\n",
    "# set data\n",
    "top = ['California', 'Texas', 'New_York', 'Illinois', 'Florida']\n",
    "x = np.arange(len(top))\n",
    "y1 = [state_violent_crimes['California'],state_violent_crimes['Texas'],state_violent_crimes['New_York'],state_violent_crimes['Illinois'],state_violent_crimes['Florida']]\n",
    "y2 = [state_property_crimes['California'],state_property_crimes['Texas'],state_property_crimes['New_York'],state_property_crimes['Illinois'],state_property_crimes['Florida']]\n",
    "\n",
    "plt.figure(figsize=(12,12))\n",
    "\n",
    "# plot data\n",
    "bar_width=0.4\n",
    "plt.subplot(2,2,1)\n",
    "plt.bar(x, y1, width=bar_width, color='green', zorder=2)\n",
    "plt.bar(x + bar_width, y2, width=bar_width, color='red', zorder=2)\n",
    "\n",
    "# set labels\n",
    "plt.xticks(x + bar_width/2, top)\n",
    "plt.title(\"5 Most Populated States\")\n",
    "plt.ylabel('Number of Crimes')\n",
    "plt.grid(axis='y')\n",
    "\n",
    "# legend\n",
    "green_patch = mpatches.Patch(color='green', label='Violent Crime')\n",
    "red_patch = mpatches.Patch(color='red', label='Property Crime')\n",
    "plt.legend(handles=[green_patch, red_patch])\n",
    "\n",
    "\n",
    "# bottom 5 plots\n",
    "bottom = ['Montana', 'West_Virginia', 'Wyoming', 'Delaware', 'Vermont']\n",
    "x = np.arange(len(bottom))\n",
    "y3 = [state_violent_crimes['Montana'],state_violent_crimes['West_Virginia'],state_violent_crimes['Wyoming'],state_violent_crimes['Delaware'],state_violent_crimes['Vermont']]\n",
    "y4 = [state_property_crimes['Montana'],state_property_crimes['West_Virginia'],state_property_crimes['Wyoming'],state_property_crimes['Delaware'],state_property_crimes['Vermont']]\n",
    "\n",
    "plt.subplot(2,2,2)\n",
    "plt.bar(x, y3, width=bar_width, color='green', zorder=2)\n",
    "plt.bar(x + bar_width, y4, width=bar_width, color='red', zorder=2)\n",
    "\n",
    "# set labels\n",
    "plt.xticks(x + bar_width/2, bottom)\n",
    "plt.title(\"5 Least Populated States\")\n",
    "plt.ylabel('Number of Crimes')\n",
    "\n",
    "plt.grid(axis='y')\n",
    "\n",
    "# legend\n",
    "green_patch = mpatches.Patch(color='green', label='Violent Crime')\n",
    "red_patch = mpatches.Patch(color='red', label='Property Crime')\n",
    "plt.legend(handles=[green_patch, red_patch])\n",
    "\n",
    "\n",
    "\n",
    "###\n",
    "### Population Graphs\n",
    "###\n",
    "\n",
    "# top 5 #\n",
    "top = ['California', 'Texas', 'New_York', 'Illinois', 'Florida']\n",
    "x = np.arange(len(top))\n",
    "y5 = [state_populations['California'],state_populations['Texas'],state_populations['New_York'],state_populations['Illinois'],state_populations['Florida']]\n",
    "\n",
    "plt.subplot(2,2,3)\n",
    "plt.ticklabel_format(style='plain')\n",
    "plt.bar(x, y5, align='center')\n",
    "plt.xticks(x, top)\n",
    "\n",
    "plt.ylabel('Population')\n",
    "plt.title('State Populations')\n",
    "\n",
    "\n",
    "# bottom 5 #\n",
    "bottom = ['Montana', 'West_Virginia', 'Wyoming', 'Delaware', 'Vermont']\n",
    "x = np.arange(len(bottom))\n",
    "y6 = [state_populations['Montana'],state_populations['West_Virginia'],state_populations['Wyoming'],state_populations['Delaware'],state_populations['Vermont']]\n",
    "\n",
    "plt.subplot(2,2,4)\n",
    "plt.ticklabel_format(style='plain')\n",
    "plt.bar(x, y6, align='center')\n",
    "plt.xticks(x, bottom)\n",
    "\n",
    "plt.ylabel('Population')\n",
    "plt.title('State Populations')\n",
    "\n",
    "\n",
    "plt.tight_layout()\n",
    "plt.show()"
   ]
  },
  {
   "cell_type": "markdown",
   "metadata": {},
   "source": [
    "### All four graphs are ordered by decending population. The top two graphs indicate the violent and property crime numbers for the five most and five least populated states respectively. Below them are each state's population.\n",
    "\n",
    "We have observed that even though the states are sorted in a descending order by population, this does not necessarily imply that because a certain state has a lower population, it will have a lower number of reported crimes. We can see this when comparing the crime numbers of Illinois and Florida. Florida has a slightly lower population than Illinois, but it has far more property crimes.\n",
    "\n",
    "Likewise, as population decreases for the five least populated states, the number of reported violent and property crimes does not decrease from state to state. Instead, it jumps up and down with no specific pattern to follow. For example: Delaware has three times more violent crimes but only around 75% of the population of Wyoming.\n",
    "\n",
    "Generally speaking, crime rates decrease as population decreases but it's not a guaranteed occurrence.\n"
   ]
  },
  {
   "cell_type": "markdown",
   "metadata": {},
   "source": [
    "# Comparing New Jersey and Pennsylvania Crimes"
   ]
  },
  {
   "cell_type": "code",
   "execution_count": 12,
   "metadata": {},
   "outputs": [
    {
     "data": {
      "image/png": "[encoded data removed]",
      "text/plain": [
       "<Figure size 864x576 with 2 Axes>"
      ]
     },
     "metadata": {},
     "output_type": "display_data"
    }
   ],
   "source": [
    "# dictionaries containing the totals of each crime for each state\n",
    "murder = {}\n",
    "rape = {}\n",
    "robbery = {}\n",
    "aggravated_assault = {}\n",
    "burglary = {}\n",
    "larceny_theft = {}\n",
    "motor_vehicle_theft = {}\n",
    "arson = {}\n",
    "\n",
    "# load lists\n",
    "for state, df in states.items():\n",
    "    murder[state] = float(df['murder_and_nonnegligent_manslaughter'].sum())\n",
    "    rape[state] = float(df['rape'].sum())\n",
    "    robbery[state] = float(df['robbery'].sum())\n",
    "    aggravated_assault[state] = float(df['aggravated_assault'].sum())\n",
    "    burglary[state] = float(df['burglary'].sum())\n",
    "    larceny_theft[state] = float(df['larceny_theft'].sum())\n",
    "    motor_vehicle_theft[state] = float(df['motor_vehicle_theft'].sum())\n",
    "    arson[state] = float(df['arson'].sum())\n",
    "    \n",
    "state_list = ['New_Jersey', 'Pennsylvania']\n",
    "plt.figure(figsize=(12,8))\n",
    "\n",
    "# Violent Crimes New Jersey and Pennsylvania\n",
    "crimes = ['Murder','Rape','Robbery','Aggravated Assault']\n",
    "\n",
    "x = np.arange(len(crimes))\n",
    "y1 = [murder['New_Jersey'],rape['New_Jersey'],robbery['New_Jersey'],aggravated_assault['New_Jersey']]\n",
    "y2 = [murder['Pennsylvania'],rape['Pennsylvania'],robbery['Pennsylvania'],aggravated_assault['Pennsylvania']]\n",
    "\n",
    "# plot data\n",
    "bar_width=0.4\n",
    "plt.subplot(1,2,1)\n",
    "plt.bar(x, y1, width=bar_width, align='center', color='red')\n",
    "plt.bar(x + bar_width, y2, width=bar_width, align='center', color='green')\n",
    "\n",
    "# set labels\n",
    "plt.xticks(x + bar_width/2 , crimes)\n",
    "plt.title(\"Violent Crimes in New Jersey and Pennsylvania\")\n",
    "plt.ylabel('Number of Crimes')\n",
    "plt.grid(axis='y')\n",
    "\n",
    "# legend\n",
    "green_patch = mpatches.Patch(color='green', label='Pennsylvania')\n",
    "red_patch = mpatches.Patch(color='red', label='New Jersey')\n",
    "plt.legend(handles=[green_patch, red_patch])\n",
    "\n",
    "# Property Crimes New Jersey and Pennsylvania\n",
    "crimes = ['Burglary','Larceny Theft','Motor Vehicle Theft','Arson']\n",
    "\n",
    "x = np.arange(len(crimes))\n",
    "y1 = [burglary['New_Jersey'],larceny_theft['New_Jersey'],motor_vehicle_theft['New_Jersey'],arson['New_Jersey']]\n",
    "y2 = [burglary['Pennsylvania'],larceny_theft['Pennsylvania'],motor_vehicle_theft['Pennsylvania'],arson['Pennsylvania']]\n",
    "\n",
    "# plot data\n",
    "bar_width=0.4\n",
    "plt.subplot(1,2,2)\n",
    "plt.bar(x, y1, width=bar_width, align='center', color='red')\n",
    "plt.bar(x + bar_width, y2, width=bar_width, align='center', color='green')\n",
    "\n",
    "\n",
    "# set labels\n",
    "plt.xticks(x + bar_width/2 , ['Burglary','Larceny Theft','Motor Vehicle Theft','Arson'])\n",
    "plt.title(\"Property Crimes in New Jersey and Pennsylvania\")\n",
    "plt.ylabel('Number of Crimes')\n",
    "plt.grid(axis='y')\n",
    "\n",
    "# legend\n",
    "green_patch = mpatches.Patch(color='green', label='Pennsylvania')\n",
    "red_patch = mpatches.Patch(color='red', label='New Jersey')\n",
    "plt.legend(handles=[green_patch, red_patch])\n",
    "\n",
    "plt.tight_layout()\n",
    "plt.show()"
   ]
  },
  {
   "cell_type": "code",
   "execution_count": 13,
   "metadata": {},
   "outputs": [
    {
     "name": "stdout",
     "output_type": "stream",
     "text": [
      "8580636.0\n",
      "9179018.0\n"
     ]
    },
    {
     "data": {
      "text/plain": [
       "0.0651901979057019"
      ]
     },
     "execution_count": 13,
     "metadata": {},
     "output_type": "execute_result"
    }
   ],
   "source": [
    "print(state_populations['New_Jersey'])\n",
    "print(state_populations['Pennsylvania'])\n",
    "\n",
    "(state_populations['Pennsylvania'] - state_populations['New_Jersey'] )/state_populations['Pennsylvania']"
   ]
  },
  {
   "cell_type": "markdown",
   "metadata": {},
   "source": [
    "In the above figures, we chose to analyze two states with relatively close populations: New Jersey and Pennsylvania. These figures display the violent and property crimes for each state. The population for New Jersey is 8,580,636 and the population for Pennsylvania is 9,179,018. \n",
    "\n",
    "From the data provided, Pennsylvania is about 6.5% larger than New Jersey. However, Pennsylvania has nearly double the rape, aggravated assualt, and larceny theft than New Jersey even though both have almost the same population. Pennsylvania also has 1.25 times more robberies than New Jersey, but both states have a close number of murders, arson, burglary, and theft; in short, Pennsylvania has higher numbers of crimes for each category than New Jersey."
   ]
  },
  {
   "cell_type": "markdown",
   "metadata": {},
   "source": [
    "## Removing Philadelphia"
   ]
  },
  {
   "cell_type": "code",
   "execution_count": 14,
   "metadata": {},
   "outputs": [
    {
     "data": {
      "image/png": "[encoded data removed]",
      "text/plain": [
       "<Figure size 864x576 with 2 Axes>"
      ]
     },
     "metadata": {},
     "output_type": "display_data"
    }
   ],
   "source": [
    "# remove Philadelphia from PEnnsylvania statistics\n",
    "penn = states['Pennsylvania']\n",
    "penn2 = penn[penn.city != 'Philadelphia']\n",
    "states['Pennsylvania'] = penn2\n",
    "\n",
    "# dictionaries containing the totals of each crime for each state\n",
    "murder = {}\n",
    "rape = {}\n",
    "robbery = {}\n",
    "aggravated_assault = {}\n",
    "burglary = {}\n",
    "larceny_theft = {}\n",
    "motor_vehicle_theft = {}\n",
    "arson = {}\n",
    "\n",
    "# load lists\n",
    "for state, df in states.items():\n",
    "    murder[state] = float(df['murder_and_nonnegligent_manslaughter'].sum())\n",
    "    rape[state] = float(df['rape'].sum())\n",
    "    robbery[state] = float(df['robbery'].sum())\n",
    "    aggravated_assault[state] = float(df['aggravated_assault'].sum())\n",
    "    burglary[state] = float(df['burglary'].sum())\n",
    "    larceny_theft[state] = float(df['larceny_theft'].sum())\n",
    "    motor_vehicle_theft[state] = float(df['motor_vehicle_theft'].sum())\n",
    "    arson[state] = float(df['arson'].sum())\n",
    "    \n",
    "state_list = ['New_Jersey', 'Pennsylvania']\n",
    "plt.figure(figsize=(12,8))\n",
    "\n",
    "# Violent Crimes New Jersey and Pennsylvania\n",
    "crimes = ['Murder','Rape','Robbery','Aggravated Assault']\n",
    "\n",
    "x = np.arange(len(crimes))\n",
    "y1 = [murder['New_Jersey'],rape['New_Jersey'],robbery['New_Jersey'],aggravated_assault['New_Jersey']]\n",
    "y2 = [murder['Pennsylvania'],rape['Pennsylvania'],robbery['Pennsylvania'],aggravated_assault['Pennsylvania']]\n",
    "\n",
    "# plot data\n",
    "bar_width=0.4\n",
    "plt.subplot(1,2,1)\n",
    "plt.bar(x, y1, width=bar_width, align='center', color='red')\n",
    "plt.bar(x + bar_width, y2, width=bar_width, align='center', color='green')\n",
    "\n",
    "# set labels\n",
    "plt.xticks(x + bar_width/2 , crimes)\n",
    "plt.title(\"Violent Crimes in New Jersey and Pennsylvania\")\n",
    "plt.ylabel('Number of Crimes')\n",
    "plt.grid(axis='y')\n",
    "\n",
    "# legend\n",
    "green_patch = mpatches.Patch(color='green', label='Pennsylvania')\n",
    "red_patch = mpatches.Patch(color='red', label='New Jersey')\n",
    "plt.legend(handles=[green_patch, red_patch])\n",
    "\n",
    "# Property Crimes New Jersey and Pennsylvania\n",
    "crimes = ['Burglary','Larceny Theft','Motor Vehicle Theft','Arson']\n",
    "\n",
    "x = np.arange(len(crimes))\n",
    "y1 = [burglary['New_Jersey'],larceny_theft['New_Jersey'],motor_vehicle_theft['New_Jersey'],arson['New_Jersey']]\n",
    "y2 = [burglary['Pennsylvania'],larceny_theft['Pennsylvania'],motor_vehicle_theft['Pennsylvania'],arson['Pennsylvania']]\n",
    "\n",
    "# plot data\n",
    "bar_width=0.4\n",
    "plt.subplot(1,2,2)\n",
    "plt.bar(x, y1, width=bar_width, align='center', color='red')\n",
    "plt.bar(x + bar_width, y2, width=bar_width, align='center', color='green')\n",
    "\n",
    "\n",
    "# set labels\n",
    "plt.xticks(x + bar_width/2 , ['Burglary','Larceny Theft','Motor Vehicle Theft','Arson'])\n",
    "plt.title(\"Property Crimes in New Jersey and Pennsylvania\")\n",
    "plt.ylabel('Number of Crimes')\n",
    "plt.grid(axis='y')\n",
    "\n",
    "# legend\n",
    "green_patch = mpatches.Patch(color='green', label='Pennsylvania')\n",
    "red_patch = mpatches.Patch(color='red', label='New Jersey')\n",
    "plt.legend(handles=[green_patch, red_patch])\n",
    "\n",
    "plt.tight_layout()\n",
    "plt.show()"
   ]
  },
  {
   "cell_type": "markdown",
   "metadata": {},
   "source": [
    "When comparing two states of similar geographic proximity and population size, we hypothesized that the two states would have similar rates of crime, but that was not the case. Looking further into this, when we remove the Pennsylvania city with the largest population (Philadelphia), Pennsylvania's crime statistics are much closer to those of New Jersey. This is alarming that a single city can have crime rates close to those of an entire state. In fact, after removing Philadelphia from the dataset, New Jersey actually had more robberies, motor vehicle thefts and burglaries than Pennsylvania.\n",
    "\n",
    "Furthermore, after analyzing Philadelphia, it was found that a city which makes up 17% of Pennsylvania's total population is responsible for the following percentages of each crime in the state:\n",
    "- Violent Crime: 47%\n",
    "  - Murder: 49%\n",
    "  - Rape: 46%\n",
    "  - Robbery: 55%\n",
    "  - Aggravated Assault: 43%\n",
    "- Property Crimes: 28%\n",
    "  - Burglary: 28%\n",
    "  - Larceny: 26%\n",
    "  - Motor Vehicle Theft: 49%\n",
    "  - Arson: 34%\n",
    "\n",
    "For comparison, Newark, New Jersey's largest city by population, makes up 3% of the state's total population and contributes the following crime rates to the state:\n",
    "- Violent Crime: 14%\n",
    "  - Murder: 33%\n",
    "  - Rape: 8%\n",
    "  - Robbery: 17%\n",
    "  - Aggravated Assault: 12%\n",
    "- Property Crime: 5%\n",
    "  - Burglary: 5%\n",
    "  - Larceny: 3%\n",
    "  - Motor Vehicle Theft:20%\n",
    "  - Arson: 9%\n",
    "\n",
    "Now, Philadelphia has population of 1,570,826 people and Newark has a population of 281,450, roughly 5.6 times smaller than Philadelphia. At the rate of crime in Newark, if it were the size of Philadelphia and the crimes were all multiplied by 5.6, the rates of Newark change to 16% of the state's population and the following crimes rates:\n",
    "- Violent Crime: 47%\n",
    "  - Murder: 73%\n",
    "  - Rape: 32%\n",
    "  - Robbery: 53%\n",
    "  - Aggravated Assault: 42%\n",
    "- Property Crime: 23%\n",
    "  - Burglary: 22%\n",
    "  - Larceny: 16%\n",
    "  - Motor Vehicle Theft: 59%\n",
    "  - Arson: 35%\n",
    "  \n",
    "This extrapolation of Newark's size to that of Philadelphia shows that the two cities have extremely similar per capita crime rates"
   ]
  },
  {
   "cell_type": "markdown",
   "metadata": {},
   "source": [
    "# Machine Learning"
   ]
  },
  {
   "cell_type": "markdown",
   "metadata": {},
   "source": [
    "Now we want to implement two machine learning algorithms and try to predict how many rape crimes happened for a set of features given in the test set."
   ]
  },
  {
   "cell_type": "markdown",
   "metadata": {},
   "source": [
    "## Linear Regression\n"
   ]
  },
  {
   "cell_type": "code",
   "execution_count": 15,
   "metadata": {},
   "outputs": [],
   "source": [
    "from sklearn import linear_model\n",
    "from sklearn.model_selection import train_test_split"
   ]
  },
  {
   "cell_type": "markdown",
   "metadata": {},
   "source": [
    "First we combine all the data into a single dataframe for the model:"
   ]
  },
  {
   "cell_type": "code",
   "execution_count": 16,
   "metadata": {},
   "outputs": [
    {
     "data": {
      "text/html": [
       "<div>\n",
       "<style scoped>\n",
       "    .dataframe tbody tr th:only-of-type {\n",
       "        vertical-align: middle;\n",
       "    }\n",
       "\n",
       "    .dataframe tbody tr th {\n",
       "        vertical-align: top;\n",
       "    }\n",
       "\n",
       "    .dataframe thead th {\n",
       "        text-align: right;\n",
       "    }\n",
       "</style>\n",
       "<table border=\"1\" class=\"dataframe\">\n",
       "  <thead>\n",
       "    <tr style=\"text-align: right;\">\n",
       "      <th></th>\n",
       "      <th>population</th>\n",
       "      <th>murder_and_nonnegligent_manslaughter</th>\n",
       "      <th>rape</th>\n",
       "      <th>robbery</th>\n",
       "      <th>aggravated_assault</th>\n",
       "      <th>burglary</th>\n",
       "      <th>larceny_theft</th>\n",
       "      <th>motor_vehicle_theft</th>\n",
       "    </tr>\n",
       "  </thead>\n",
       "  <tbody>\n",
       "    <tr>\n",
       "      <th>count</th>\n",
       "      <td>9.578000e+03</td>\n",
       "      <td>9578.000000</td>\n",
       "      <td>9578.000000</td>\n",
       "      <td>9578.000000</td>\n",
       "      <td>9578.000000</td>\n",
       "      <td>9578.000000</td>\n",
       "      <td>9578.000000</td>\n",
       "      <td>9578.000000</td>\n",
       "    </tr>\n",
       "    <tr>\n",
       "      <th>mean</th>\n",
       "      <td>2.150758e+04</td>\n",
       "      <td>15.735749</td>\n",
       "      <td>9.345584</td>\n",
       "      <td>28.573293</td>\n",
       "      <td>62.990812</td>\n",
       "      <td>109.598455</td>\n",
       "      <td>435.164126</td>\n",
       "      <td>60.450407</td>\n",
       "    </tr>\n",
       "    <tr>\n",
       "      <th>std</th>\n",
       "      <td>1.200952e+05</td>\n",
       "      <td>1415.502120</td>\n",
       "      <td>64.272455</td>\n",
       "      <td>299.141307</td>\n",
       "      <td>598.847315</td>\n",
       "      <td>621.021595</td>\n",
       "      <td>2264.978009</td>\n",
       "      <td>431.990339</td>\n",
       "    </tr>\n",
       "    <tr>\n",
       "      <th>min</th>\n",
       "      <td>0.000000e+00</td>\n",
       "      <td>0.000000</td>\n",
       "      <td>0.000000</td>\n",
       "      <td>0.000000</td>\n",
       "      <td>0.000000</td>\n",
       "      <td>0.000000</td>\n",
       "      <td>0.000000</td>\n",
       "      <td>0.000000</td>\n",
       "    </tr>\n",
       "    <tr>\n",
       "      <th>25%</th>\n",
       "      <td>2.228250e+03</td>\n",
       "      <td>0.000000</td>\n",
       "      <td>0.000000</td>\n",
       "      <td>0.000000</td>\n",
       "      <td>1.000000</td>\n",
       "      <td>5.000000</td>\n",
       "      <td>19.000000</td>\n",
       "      <td>1.000000</td>\n",
       "    </tr>\n",
       "    <tr>\n",
       "      <th>50%</th>\n",
       "      <td>5.800500e+03</td>\n",
       "      <td>0.000000</td>\n",
       "      <td>1.000000</td>\n",
       "      <td>1.000000</td>\n",
       "      <td>6.000000</td>\n",
       "      <td>16.000000</td>\n",
       "      <td>73.000000</td>\n",
       "      <td>4.000000</td>\n",
       "    </tr>\n",
       "    <tr>\n",
       "      <th>75%</th>\n",
       "      <td>1.633050e+04</td>\n",
       "      <td>0.000000</td>\n",
       "      <td>5.000000</td>\n",
       "      <td>6.000000</td>\n",
       "      <td>22.000000</td>\n",
       "      <td>57.000000</td>\n",
       "      <td>278.750000</td>\n",
       "      <td>18.000000</td>\n",
       "    </tr>\n",
       "    <tr>\n",
       "      <th>max</th>\n",
       "      <td>8.566917e+06</td>\n",
       "      <td>138527.000000</td>\n",
       "      <td>3149.000000</td>\n",
       "      <td>15544.000000</td>\n",
       "      <td>31661.000000</td>\n",
       "      <td>26402.000000</td>\n",
       "      <td>106868.000000</td>\n",
       "      <td>18591.000000</td>\n",
       "    </tr>\n",
       "  </tbody>\n",
       "</table>\n",
       "</div>"
      ],
      "text/plain": [
       "         population  murder_and_nonnegligent_manslaughter         rape  \\\n",
       "count  9.578000e+03                           9578.000000  9578.000000   \n",
       "mean   2.150758e+04                             15.735749     9.345584   \n",
       "std    1.200952e+05                           1415.502120    64.272455   \n",
       "min    0.000000e+00                              0.000000     0.000000   \n",
       "25%    2.228250e+03                              0.000000     0.000000   \n",
       "50%    5.800500e+03                              0.000000     1.000000   \n",
       "75%    1.633050e+04                              0.000000     5.000000   \n",
       "max    8.566917e+06                         138527.000000  3149.000000   \n",
       "\n",
       "            robbery  aggravated_assault      burglary  larceny_theft  \\\n",
       "count   9578.000000         9578.000000   9578.000000    9578.000000   \n",
       "mean      28.573293           62.990812    109.598455     435.164126   \n",
       "std      299.141307          598.847315    621.021595    2264.978009   \n",
       "min        0.000000            0.000000      0.000000       0.000000   \n",
       "25%        0.000000            1.000000      5.000000      19.000000   \n",
       "50%        1.000000            6.000000     16.000000      73.000000   \n",
       "75%        6.000000           22.000000     57.000000     278.750000   \n",
       "max    15544.000000        31661.000000  26402.000000  106868.000000   \n",
       "\n",
       "       motor_vehicle_theft  \n",
       "count          9578.000000  \n",
       "mean             60.450407  \n",
       "std             431.990339  \n",
       "min               0.000000  \n",
       "25%               1.000000  \n",
       "50%               4.000000  \n",
       "75%              18.000000  \n",
       "max           18591.000000  "
      ]
     },
     "execution_count": 16,
     "metadata": {},
     "output_type": "execute_result"
    }
   ],
   "source": [
    "# combine all the data\n",
    "alldata = pd.concat(states.values(), ignore_index=True)\n",
    "\n",
    "# drop unneeded columns\n",
    "alldata = alldata.drop(['city', 'violent_crime', 'property_crime', 'arson'], axis = 1)\n",
    "alldata = alldata.fillna(0)\n",
    "\n",
    "# extract features, without the target label we want to predict\n",
    "features = alldata.drop(['rape'], axis = 1)\n",
    "labels = alldata.drop(['population','murder_and_nonnegligent_manslaughter', 'robbery', 'aggravated_assault', 'burglary', 'larceny_theft', 'motor_vehicle_theft'], axis = 1)\n",
    "\n",
    "# show all data statistics\n",
    "alldata.describe()\n"
   ]
  },
  {
   "cell_type": "code",
   "execution_count": 17,
   "metadata": {},
   "outputs": [
    {
     "data": {
      "text/html": [
       "<div>\n",
       "<style scoped>\n",
       "    .dataframe tbody tr th:only-of-type {\n",
       "        vertical-align: middle;\n",
       "    }\n",
       "\n",
       "    .dataframe tbody tr th {\n",
       "        vertical-align: top;\n",
       "    }\n",
       "\n",
       "    .dataframe thead th {\n",
       "        text-align: right;\n",
       "    }\n",
       "</style>\n",
       "<table border=\"1\" class=\"dataframe\">\n",
       "  <thead>\n",
       "    <tr style=\"text-align: right;\">\n",
       "      <th></th>\n",
       "      <th>population</th>\n",
       "      <th>murder_and_nonnegligent_manslaughter</th>\n",
       "      <th>robbery</th>\n",
       "      <th>aggravated_assault</th>\n",
       "      <th>burglary</th>\n",
       "      <th>larceny_theft</th>\n",
       "      <th>motor_vehicle_theft</th>\n",
       "    </tr>\n",
       "  </thead>\n",
       "  <tbody>\n",
       "    <tr>\n",
       "      <th>count</th>\n",
       "      <td>9.578000e+03</td>\n",
       "      <td>9578.000000</td>\n",
       "      <td>9578.000000</td>\n",
       "      <td>9578.000000</td>\n",
       "      <td>9578.000000</td>\n",
       "      <td>9578.000000</td>\n",
       "      <td>9578.000000</td>\n",
       "    </tr>\n",
       "    <tr>\n",
       "      <th>mean</th>\n",
       "      <td>2.150758e+04</td>\n",
       "      <td>15.735749</td>\n",
       "      <td>28.573293</td>\n",
       "      <td>62.990812</td>\n",
       "      <td>109.598455</td>\n",
       "      <td>435.164126</td>\n",
       "      <td>60.450407</td>\n",
       "    </tr>\n",
       "    <tr>\n",
       "      <th>std</th>\n",
       "      <td>1.200952e+05</td>\n",
       "      <td>1415.502120</td>\n",
       "      <td>299.141307</td>\n",
       "      <td>598.847315</td>\n",
       "      <td>621.021595</td>\n",
       "      <td>2264.978009</td>\n",
       "      <td>431.990339</td>\n",
       "    </tr>\n",
       "    <tr>\n",
       "      <th>min</th>\n",
       "      <td>0.000000e+00</td>\n",
       "      <td>0.000000</td>\n",
       "      <td>0.000000</td>\n",
       "      <td>0.000000</td>\n",
       "      <td>0.000000</td>\n",
       "      <td>0.000000</td>\n",
       "      <td>0.000000</td>\n",
       "    </tr>\n",
       "    <tr>\n",
       "      <th>25%</th>\n",
       "      <td>2.228250e+03</td>\n",
       "      <td>0.000000</td>\n",
       "      <td>0.000000</td>\n",
       "      <td>1.000000</td>\n",
       "      <td>5.000000</td>\n",
       "      <td>19.000000</td>\n",
       "      <td>1.000000</td>\n",
       "    </tr>\n",
       "    <tr>\n",
       "      <th>50%</th>\n",
       "      <td>5.800500e+03</td>\n",
       "      <td>0.000000</td>\n",
       "      <td>1.000000</td>\n",
       "      <td>6.000000</td>\n",
       "      <td>16.000000</td>\n",
       "      <td>73.000000</td>\n",
       "      <td>4.000000</td>\n",
       "    </tr>\n",
       "    <tr>\n",
       "      <th>75%</th>\n",
       "      <td>1.633050e+04</td>\n",
       "      <td>0.000000</td>\n",
       "      <td>6.000000</td>\n",
       "      <td>22.000000</td>\n",
       "      <td>57.000000</td>\n",
       "      <td>278.750000</td>\n",
       "      <td>18.000000</td>\n",
       "    </tr>\n",
       "    <tr>\n",
       "      <th>max</th>\n",
       "      <td>8.566917e+06</td>\n",
       "      <td>138527.000000</td>\n",
       "      <td>15544.000000</td>\n",
       "      <td>31661.000000</td>\n",
       "      <td>26402.000000</td>\n",
       "      <td>106868.000000</td>\n",
       "      <td>18591.000000</td>\n",
       "    </tr>\n",
       "  </tbody>\n",
       "</table>\n",
       "</div>"
      ],
      "text/plain": [
       "         population  murder_and_nonnegligent_manslaughter       robbery  \\\n",
       "count  9.578000e+03                           9578.000000   9578.000000   \n",
       "mean   2.150758e+04                             15.735749     28.573293   \n",
       "std    1.200952e+05                           1415.502120    299.141307   \n",
       "min    0.000000e+00                              0.000000      0.000000   \n",
       "25%    2.228250e+03                              0.000000      0.000000   \n",
       "50%    5.800500e+03                              0.000000      1.000000   \n",
       "75%    1.633050e+04                              0.000000      6.000000   \n",
       "max    8.566917e+06                         138527.000000  15544.000000   \n",
       "\n",
       "       aggravated_assault      burglary  larceny_theft  motor_vehicle_theft  \n",
       "count         9578.000000   9578.000000    9578.000000          9578.000000  \n",
       "mean            62.990812    109.598455     435.164126            60.450407  \n",
       "std            598.847315    621.021595    2264.978009           431.990339  \n",
       "min              0.000000      0.000000       0.000000             0.000000  \n",
       "25%              1.000000      5.000000      19.000000             1.000000  \n",
       "50%              6.000000     16.000000      73.000000             4.000000  \n",
       "75%             22.000000     57.000000     278.750000            18.000000  \n",
       "max          31661.000000  26402.000000  106868.000000         18591.000000  "
      ]
     },
     "execution_count": 17,
     "metadata": {},
     "output_type": "execute_result"
    }
   ],
   "source": [
    "# show features statistics\n",
    "features.describe()"
   ]
  },
  {
   "cell_type": "markdown",
   "metadata": {},
   "source": [
    "And these are statistics for the labels corresponding to the features:"
   ]
  },
  {
   "cell_type": "code",
   "execution_count": 18,
   "metadata": {},
   "outputs": [
    {
     "data": {
      "text/html": [
       "<div>\n",
       "<style scoped>\n",
       "    .dataframe tbody tr th:only-of-type {\n",
       "        vertical-align: middle;\n",
       "    }\n",
       "\n",
       "    .dataframe tbody tr th {\n",
       "        vertical-align: top;\n",
       "    }\n",
       "\n",
       "    .dataframe thead th {\n",
       "        text-align: right;\n",
       "    }\n",
       "</style>\n",
       "<table border=\"1\" class=\"dataframe\">\n",
       "  <thead>\n",
       "    <tr style=\"text-align: right;\">\n",
       "      <th></th>\n",
       "      <th>rape</th>\n",
       "    </tr>\n",
       "  </thead>\n",
       "  <tbody>\n",
       "    <tr>\n",
       "      <th>count</th>\n",
       "      <td>9578.000000</td>\n",
       "    </tr>\n",
       "    <tr>\n",
       "      <th>mean</th>\n",
       "      <td>9.345584</td>\n",
       "    </tr>\n",
       "    <tr>\n",
       "      <th>std</th>\n",
       "      <td>64.272455</td>\n",
       "    </tr>\n",
       "    <tr>\n",
       "      <th>min</th>\n",
       "      <td>0.000000</td>\n",
       "    </tr>\n",
       "    <tr>\n",
       "      <th>25%</th>\n",
       "      <td>0.000000</td>\n",
       "    </tr>\n",
       "    <tr>\n",
       "      <th>50%</th>\n",
       "      <td>1.000000</td>\n",
       "    </tr>\n",
       "    <tr>\n",
       "      <th>75%</th>\n",
       "      <td>5.000000</td>\n",
       "    </tr>\n",
       "    <tr>\n",
       "      <th>max</th>\n",
       "      <td>3149.000000</td>\n",
       "    </tr>\n",
       "  </tbody>\n",
       "</table>\n",
       "</div>"
      ],
      "text/plain": [
       "              rape\n",
       "count  9578.000000\n",
       "mean      9.345584\n",
       "std      64.272455\n",
       "min       0.000000\n",
       "25%       0.000000\n",
       "50%       1.000000\n",
       "75%       5.000000\n",
       "max    3149.000000"
      ]
     },
     "execution_count": 18,
     "metadata": {},
     "output_type": "execute_result"
    }
   ],
   "source": [
    "# show label (rape) statistics:\n",
    "labels.describe()"
   ]
  },
  {
   "cell_type": "markdown",
   "metadata": {},
   "source": [
    "### Defining the Linear Regression Model"
   ]
  },
  {
   "cell_type": "code",
   "execution_count": 19,
   "metadata": {},
   "outputs": [
    {
     "data": {
      "text/html": [
       "<div>\n",
       "<style scoped>\n",
       "    .dataframe tbody tr th:only-of-type {\n",
       "        vertical-align: middle;\n",
       "    }\n",
       "\n",
       "    .dataframe tbody tr th {\n",
       "        vertical-align: top;\n",
       "    }\n",
       "\n",
       "    .dataframe thead th {\n",
       "        text-align: right;\n",
       "    }\n",
       "</style>\n",
       "<table border=\"1\" class=\"dataframe\">\n",
       "  <thead>\n",
       "    <tr style=\"text-align: right;\">\n",
       "      <th></th>\n",
       "      <th>population</th>\n",
       "      <th>murder_and_nonnegligent_manslaughter</th>\n",
       "      <th>robbery</th>\n",
       "      <th>aggravated_assault</th>\n",
       "      <th>burglary</th>\n",
       "      <th>larceny_theft</th>\n",
       "      <th>motor_vehicle_theft</th>\n",
       "    </tr>\n",
       "  </thead>\n",
       "  <tbody>\n",
       "    <tr>\n",
       "      <th>3219</th>\n",
       "      <td>12914.0</td>\n",
       "      <td>0</td>\n",
       "      <td>18.0</td>\n",
       "      <td>36.0</td>\n",
       "      <td>34.0</td>\n",
       "      <td>156.0</td>\n",
       "      <td>18.0</td>\n",
       "    </tr>\n",
       "    <tr>\n",
       "      <th>6252</th>\n",
       "      <td>2621.0</td>\n",
       "      <td>0</td>\n",
       "      <td>0.0</td>\n",
       "      <td>7.0</td>\n",
       "      <td>4.0</td>\n",
       "      <td>42.0</td>\n",
       "      <td>1.0</td>\n",
       "    </tr>\n",
       "    <tr>\n",
       "      <th>4062</th>\n",
       "      <td>5021.0</td>\n",
       "      <td>0</td>\n",
       "      <td>0.0</td>\n",
       "      <td>2.0</td>\n",
       "      <td>6.0</td>\n",
       "      <td>21.0</td>\n",
       "      <td>7.0</td>\n",
       "    </tr>\n",
       "    <tr>\n",
       "      <th>5452</th>\n",
       "      <td>11921.0</td>\n",
       "      <td>2</td>\n",
       "      <td>5.0</td>\n",
       "      <td>32.0</td>\n",
       "      <td>286.0</td>\n",
       "      <td>165.0</td>\n",
       "      <td>21.0</td>\n",
       "    </tr>\n",
       "    <tr>\n",
       "      <th>4308</th>\n",
       "      <td>15873.0</td>\n",
       "      <td>0</td>\n",
       "      <td>7.0</td>\n",
       "      <td>12.0</td>\n",
       "      <td>56.0</td>\n",
       "      <td>222.0</td>\n",
       "      <td>23.0</td>\n",
       "    </tr>\n",
       "  </tbody>\n",
       "</table>\n",
       "</div>"
      ],
      "text/plain": [
       "      population  murder_and_nonnegligent_manslaughter  robbery  \\\n",
       "3219     12914.0                                     0     18.0   \n",
       "6252      2621.0                                     0      0.0   \n",
       "4062      5021.0                                     0      0.0   \n",
       "5452     11921.0                                     2      5.0   \n",
       "4308     15873.0                                     0      7.0   \n",
       "\n",
       "      aggravated_assault  burglary  larceny_theft  motor_vehicle_theft  \n",
       "3219                36.0      34.0          156.0                 18.0  \n",
       "6252                 7.0       4.0           42.0                  1.0  \n",
       "4062                 2.0       6.0           21.0                  7.0  \n",
       "5452                32.0     286.0          165.0                 21.0  \n",
       "4308                12.0      56.0          222.0                 23.0  "
      ]
     },
     "execution_count": 19,
     "metadata": {},
     "output_type": "execute_result"
    }
   ],
   "source": [
    "# linear regression:\n",
    "reg = linear_model.LinearRegression()\n",
    "\n",
    "# we split the data, with 0.8 of the data for training and 0.2 for testing, random_state=4 for shuffeling\n",
    "x_train, x_test, y_train, y_test = train_test_split(features, labels, test_size=0.2, random_state=4)\n",
    "x_train.head()"
   ]
  },
  {
   "cell_type": "markdown",
   "metadata": {},
   "source": [
    "### Fitting the Model"
   ]
  },
  {
   "cell_type": "code",
   "execution_count": 20,
   "metadata": {},
   "outputs": [
    {
     "name": "stdout",
     "output_type": "stream",
     "text": [
      "done\n"
     ]
    }
   ],
   "source": [
    "# fit the model\n",
    "reg.fit(x_train,y_train)\n",
    "print('done')"
   ]
  },
  {
   "cell_type": "code",
   "execution_count": 21,
   "metadata": {},
   "outputs": [
    {
     "data": {
      "text/plain": [
       "array([[ 0.00022512,  0.01373557, -0.02398544,  0.01072603,  0.03209537,\n",
       "         0.00043426,  0.03189461]])"
      ]
     },
     "execution_count": 21,
     "metadata": {},
     "output_type": "execute_result"
    }
   ],
   "source": [
    "# print the results (weights) from the model\n",
    "reg.coef_"
   ]
  },
  {
   "cell_type": "markdown",
   "metadata": {},
   "source": [
    "### Prediction"
   ]
  },
  {
   "cell_type": "code",
   "execution_count": 22,
   "metadata": {},
   "outputs": [
    {
     "data": {
      "text/plain": [
       "array([[-0.93993571],\n",
       "       [ 0.06346176],\n",
       "       [ 3.59608203],\n",
       "       ...,\n",
       "       [14.00140456],\n",
       "       [-0.79249988],\n",
       "       [ 2.60064796]])"
      ]
     },
     "execution_count": 22,
     "metadata": {},
     "output_type": "execute_result"
    }
   ],
   "source": [
    "# predict rape count\n",
    "reg.predict(x_test)"
   ]
  },
  {
   "cell_type": "code",
   "execution_count": 23,
   "metadata": {},
   "outputs": [
    {
     "name": "stdout",
     "output_type": "stream",
     "text": [
      "predicted value: [124.2232583]\n",
      "actual value: rape    133\n",
      "Name: 6166, dtype: int64\n"
     ]
    }
   ],
   "source": [
    "# compare a value to see how close we are \n",
    "a=reg.predict(x_test)\n",
    "print(\"predicted value:\", a[4])\n",
    "print(\"actual value:\", y_test.iloc[4])\n",
    "# we can see that it is closse, but we have some error"
   ]
  },
  {
   "cell_type": "code",
   "execution_count": 134,
   "metadata": {},
   "outputs": [
    {
     "data": {
      "text/plain": [
       "rape    134.693541\n",
       "dtype: float64"
      ]
     },
     "execution_count": 134,
     "metadata": {},
     "output_type": "execute_result"
    }
   ],
   "source": [
    "# now we calculate the mean square error:\n",
    "np.mean((reg.predict(x_test) - y_test)**2)\n",
    "# we can see that our mean square error is huge, because we used linear regression for this and it might not be so efficient"
   ]
  },
  {
   "cell_type": "markdown",
   "metadata": {},
   "source": [
    "#### From just looking at the data above, we can observe that our predictions were very close in many cases.\n",
    "\n",
    "### Visualizing the Results"
   ]
  },
  {
   "cell_type": "code",
   "execution_count": 25,
   "metadata": {},
   "outputs": [
    {
     "name": "stdout",
     "output_type": "stream",
     "text": [
      "[0.10050618 3.01461784]\n"
     ]
    },
    {
     "data": {
      "image/png": "[encoded data removed]",
      "text/plain": [
       "<Figure size 432x288 with 1 Axes>"
      ]
     },
     "metadata": {},
     "output_type": "display_data"
    }
   ],
   "source": [
    "# not sure how to do visualization \n",
    "rape_x = alldata['aggravated_assault']\n",
    "rape_y = alldata['rape']\n",
    "\n",
    "p1 = np.polyfit(rape_x, rape_y, 1)\n",
    "plt.scatter(rape_x, rape_y)\n",
    "plt.plot(rape_x, np.polyval(p1,rape_x), 'r')\n",
    "\n",
    "print(p1)"
   ]
  },
  {
   "cell_type": "code",
   "execution_count": 137,
   "metadata": {},
   "outputs": [
    {
     "data": {
      "text/plain": [
       "array([[-0.93993571],\n",
       "       [ 0.06346176],\n",
       "       [ 3.59608203],\n",
       "       ...,\n",
       "       [14.00140456],\n",
       "       [-0.79249988],\n",
       "       [ 2.60064796]])"
      ]
     },
     "execution_count": 137,
     "metadata": {},
     "output_type": "execute_result"
    }
   ],
   "source": [
    "reg.predict(x_test)"
   ]
  },
  {
   "cell_type": "markdown",
   "metadata": {},
   "source": [
    "_____________"
   ]
  },
  {
   "cell_type": "markdown",
   "metadata": {},
   "source": [
    "# Perceptron"
   ]
  },
  {
   "cell_type": "markdown",
   "metadata": {},
   "source": [
    "We are using a precpetron learning algorithm to predict rape crimes based on all of the other features."
   ]
  },
  {
   "cell_type": "code",
   "execution_count": 27,
   "metadata": {},
   "outputs": [],
   "source": [
    "# let's try another learning algorithm: Perceptron\n",
    "from sklearn.linear_model import Perceptron\n",
    "from sklearn.preprocessing import StandardScaler\n",
    "from sklearn.metrics import accuracy_score\n",
    "from matplotlib.colors import ListedColormap\n",
    "from matplotlib import rcParams\n",
    "rcParams[\"figure.figsize\"] = 10,5\n",
    "%matplotlib inline"
   ]
  },
  {
   "cell_type": "markdown",
   "metadata": {},
   "source": [
    "### Preparing to start the algorithm:"
   ]
  },
  {
   "cell_type": "code",
   "execution_count": 28,
   "metadata": {},
   "outputs": [
    {
     "name": "stdout",
     "output_type": "stream",
     "text": [
      "done\n"
     ]
    }
   ],
   "source": [
    "\n",
    "# create instance\n",
    "sc = StandardScaler()\n",
    "\n",
    "# fit the scalar to the training features\n",
    "sc.fit(x_train)\n",
    "\n",
    "# we transform the training and test sets using the fitted scaler\n",
    "x_train_std = sc.transform(x_train)\n",
    "x_test_std = sc.transform(x_test)\n",
    "x_train_std = x_train_std[:, [2, 3]]\n",
    "x_test_std = x_test_std[:, [2, 3]]\n",
    "print('done')"
   ]
  },
  {
   "cell_type": "markdown",
   "metadata": {},
   "source": [
    "### Training the data:"
   ]
  },
  {
   "cell_type": "code",
   "execution_count": 29,
   "metadata": {},
   "outputs": [
    {
     "name": "stdout",
     "output_type": "stream",
     "text": [
      "done\n"
     ]
    }
   ],
   "source": [
    "# now we train the model using perceptron\n",
    "# define # of iterations\n",
    "iter = 55\n",
    "alpha = 5 # learning rate\n",
    "\n",
    "# create percpetron instance:\n",
    "perc = Perceptron(max_iter=iter, eta0=alpha, random_state=0)\n",
    "\n",
    "# fit the model\n",
    "perc.fit(x_train_std, y_train.values.ravel())\n",
    "print('done')"
   ]
  },
  {
   "cell_type": "markdown",
   "metadata": {},
   "source": [
    "### Prediction"
   ]
  },
  {
   "cell_type": "code",
   "execution_count": 30,
   "metadata": {},
   "outputs": [
    {
     "name": "stdout",
     "output_type": "stream",
     "text": [
      "accuracy:  41.33611691022965 %\n"
     ]
    }
   ],
   "source": [
    "# now we predict\n",
    "predictions = perc.predict(x_test_std)\n",
    "\n",
    "# measure accuracy:\n",
    "print(\"accuracy: \", (accuracy_score(y_test, predictions)*100), \"%\")\n",
    "\n",
    "# around 41.3% accuracy, which is reasonable compared to the size of data and the number of different labels possible!"
   ]
  },
  {
   "cell_type": "markdown",
   "metadata": {},
   "source": [
    "## Perceptron 2 - Binary Classifying for Increased Accuracy"
   ]
  },
  {
   "cell_type": "code",
   "execution_count": 115,
   "metadata": {},
   "outputs": [],
   "source": [
    "# make copies of all data\n",
    "alldata2 = alldata.copy(deep=True)\n",
    "features2 = features.copy(deep=True)\n",
    "labels2 = labels.copy(deep=True)"
   ]
  },
  {
   "cell_type": "markdown",
   "metadata": {},
   "source": [
    "### Change rape data to 0 for < 5 and 1 for > 5"
   ]
  },
  {
   "cell_type": "code",
   "execution_count": 116,
   "metadata": {},
   "outputs": [],
   "source": [
    "def norm(num):\n",
    "    return 0 if num <= 10 else 1\n",
    "\n",
    "labels2 = labels2['rape'].apply(norm)"
   ]
  },
  {
   "cell_type": "markdown",
   "metadata": {},
   "source": [
    "### Split the data into training and testing"
   ]
  },
  {
   "cell_type": "code",
   "execution_count": 119,
   "metadata": {},
   "outputs": [],
   "source": [
    "# we split the data, with 0.8 of the data for training and 0.2 for testing, random_state=4 for shuffeling\n",
    "x_train2, x_test2, y_train2, y_test2 = train_test_split(features2, labels2, test_size=0.2, random_state=4)\n",
    "# x_train2.head()"
   ]
  },
  {
   "cell_type": "code",
   "execution_count": null,
   "metadata": {},
   "outputs": [],
   "source": [
    "# create instance\n",
    "sc2 = StandardScaler()\n",
    "\n",
    "# fit the scalar to the training features\n",
    "sc2.fit(x_train2)\n",
    "\n",
    "# we transform the training and test sets using the fitted scaler\n",
    "x_train_std2 = sc2.transform(x_train2)\n",
    "x_test_std2 = sc2.transform(x_test2)\n",
    "x_train_std2 = x_train_std2[:, [2, 3]]\n",
    "x_test_std2 = x_test_std2[:, [2, 3]]\n",
    "print('done')"
   ]
  },
  {
   "cell_type": "markdown",
   "metadata": {},
   "source": [
    "### Train new Perceptron and test its accuracy"
   ]
  },
  {
   "cell_type": "code",
   "execution_count": 121,
   "metadata": {},
   "outputs": [
    {
     "name": "stdout",
     "output_type": "stream",
     "text": [
      "done\n"
     ]
    }
   ],
   "source": [
    "# now we train the model using perceptron\n",
    "# define # of iterations\n",
    "iter2 = 55\n",
    "alpha2 = 0.1 # learning rate\n",
    "\n",
    "# create percpetron instance:\n",
    "perc2 = Perceptron(max_iter=iter2, eta0=alpha2, random_state=0)\n",
    "\n",
    "# fit the model\n",
    "perc2.fit(x_train_std2, y_train2.values.ravel())\n",
    "print('done')"
   ]
  },
  {
   "cell_type": "code",
   "execution_count": 122,
   "metadata": {},
   "outputs": [
    {
     "name": "stdout",
     "output_type": "stream",
     "text": [
      "accuracy:  92.74530271398747 %\n"
     ]
    }
   ],
   "source": [
    "# now we predict\n",
    "predictions2 = perc2.predict(x_test_std2)\n",
    "\n",
    "# measure accuracy:\n",
    "print(\"accuracy: \", (accuracy_score(y_test2, predictions2)*100), \"%\")\n",
    "\n",
    "# around 41.3% accuracy, which is reasonable compared to the size of data and the number of different labels possible!"
   ]
  },
  {
   "cell_type": "markdown",
   "metadata": {},
   "source": [
    "Accuracy increased to 92.75% when we took a more binary approach to classification and prediction. By changing the label data for rapes to 0 for <= 10 rapes per city and 1 for > 10, we can predict these ranges much more accurately than the 43% accuracy of guessing the actual number of rapes in a particular city. Of that 43% accuracy, 785 of the 793 correct predictions were predicitions of the value '0', so our standard Perceptron was getting the majority of its correct predictions by predicting 0. It also over-corrected in its predictions, guessing 0 over 1600 times out of the 1916 data points, so to say that it correctly predicted all true 0 rapes per city is less impactful when it guessed 0 for nearly 85% of the data (when only 40% of the data were true 0's)."
   ]
  },
  {
   "cell_type": "markdown",
   "metadata": {},
   "source": [
    "## Elastic Net"
   ]
  },
  {
   "cell_type": "code",
   "execution_count": 176,
   "metadata": {},
   "outputs": [],
   "source": [
    "from sklearn.linear_model import ElasticNet\n",
    "from sklearn.metrics import mean_squared_error\n",
    "\n",
    "ENet = ElasticNet(alpha=0.1)\n",
    "enet = ENet.fit(x_train, y_train)"
   ]
  },
  {
   "cell_type": "code",
   "execution_count": 177,
   "metadata": {},
   "outputs": [
    {
     "name": "stdout",
     "output_type": "stream",
     "text": [
      "predicted value: 124.22412501283426\n",
      "actual value: rape    133\n",
      "Name: 6166, dtype: int64\n"
     ]
    }
   ],
   "source": [
    "# compare a value to see how close we are \n",
    "e=enet.predict(x_test)\n",
    "\n",
    "print(\"predicted value:\", e[4])\n",
    "print(\"actual value:\", y_test.iloc[4])"
   ]
  },
  {
   "cell_type": "code",
   "execution_count": 178,
   "metadata": {},
   "outputs": [
    {
     "name": "stdout",
     "output_type": "stream",
     "text": [
      "The mean-squared error for Elastic Net regression is  134.6871208474744\n"
     ]
    }
   ],
   "source": [
    "mse = mean_squared_error(y_test,enet.predict(x_test))\n",
    "print(\"The mean-squared error for Elastic Net regression is \",mse)"
   ]
  },
  {
   "cell_type": "markdown",
   "metadata": {},
   "source": [
    "The Mean-Squared Average for both Linear Regression and Elastic Net are almost identical (134.69 and 134.68 respectively). This could be due to the fact that both are regression models and the features we provided may not have been the most optimal or informative for the Machine Learning algorithms. "
   ]
  }
 ],
 "metadata": {
  "kernelspec": {
   "display_name": "Python 3",
   "language": "python",
   "name": "python3"
  },
  "language_info": {
   "codemirror_mode": {
    "name": "ipython",
    "version": 3
   },
   "file_extension": ".py",
   "mimetype": "text/x-python",
   "name": "python",
   "nbconvert_exporter": "python",
   "pygments_lexer": "ipython3",
   "version": "3.6.4"
  }
 },
 "nbformat": 4,
 "nbformat_minor": 2
}
